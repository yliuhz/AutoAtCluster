{
 "cells": [
  {
   "cell_type": "code",
   "execution_count": null,
   "id": "1d22c7f2",
   "metadata": {},
   "outputs": [],
   "source": []
  },
  {
   "cell_type": "code",
   "execution_count": null,
   "id": "9d934747",
   "metadata": {},
   "outputs": [],
   "source": []
  },
  {
   "cell_type": "code",
   "execution_count": 12,
   "id": "f18a21c6",
   "metadata": {},
   "outputs": [],
   "source": [
    "import numpy as np\n",
    "import scipy.sparse as sp\n",
    "import os\n",
    "import sys\n",
    "from vis import plot_superadj"
   ]
  },
  {
   "cell_type": "code",
   "execution_count": null,
   "id": "d430864b",
   "metadata": {},
   "outputs": [],
   "source": []
  },
  {
   "cell_type": "code",
   "execution_count": 13,
   "id": "94081d01",
   "metadata": {},
   "outputs": [],
   "source": [
    "from ogb.nodeproppred import DglNodePropPredDataset\n",
    "def load_assortative(dataset=\"cora\"):\n",
    "    import pickle as pkl\n",
    "    import networkx as nx\n",
    "    import scipy.sparse as sp\n",
    "    import torch\n",
    "\n",
    "    def parse_index_file(filename):\n",
    "        index = []\n",
    "        for line in open(filename):\n",
    "            index.append(int(line.strip()))\n",
    "        return index\n",
    "\n",
    "    def sample_mask(idx, l):\n",
    "        \"\"\"Create mask.\"\"\"\n",
    "        mask = np.zeros(l)\n",
    "        mask[idx] = 1\n",
    "        return np.array(mask, dtype=np.bool)\n",
    "\n",
    "    if dataset in [\"cora\", \"citeseer\", \"pubmed\"]:\n",
    "        names = ['x', 'y', 'tx', 'ty', 'allx', 'ally', 'graph']\n",
    "        objects = []\n",
    "\n",
    "        for i in range(len(names)):\n",
    "            '''\n",
    "            fix Pickle incompatibility of numpy arrays between Python 2 and 3\n",
    "            https://stackoverflow.com/questions/11305790/pickle-incompatibility-of-numpy-arrays-between-python-2-and-3\n",
    "            '''\n",
    "            with open(\"/data/yliumh/AutoAtClusterDatasets/gcn/gcn/data/{}/ind.{}.{}\".format(dataset, dataset, names[i]), 'rb') as rf:\n",
    "                u = pkl._Unpickler(rf)\n",
    "                u.encoding = 'latin1'\n",
    "                cur_data = u.load()\n",
    "                objects.append(cur_data)\n",
    "            # objects.append(\n",
    "            #     pkl.load(open(\"data/ind.{}.{}\".format(dataset, names[i]), 'rb')))\n",
    "        x, y, tx, ty, allx, ally, graph = tuple(objects)\n",
    "        test_idx_reorder = parse_index_file(\n",
    "            \"/data/yliumh/AutoAtClusterDatasets/gcn/gcn/data/{}/ind.{}.test.index\".format(dataset, dataset))\n",
    "        test_idx_range = np.sort(test_idx_reorder)\n",
    "\n",
    "\n",
    "        if dataset == 'citeseer':\n",
    "            # Fix citeseer dataset (there are some isolated nodes in the graph)\n",
    "            # Find isolated nodes, add them as zero-vecs into the right position\n",
    "            test_idx_range_full = range(\n",
    "                min(test_idx_reorder), max(test_idx_reorder) + 1)\n",
    "            tx_extended = sp.lil_matrix((len(test_idx_range_full), x.shape[1]))\n",
    "            tx_extended[test_idx_range - min(test_idx_range), :] = tx\n",
    "            tx = tx_extended\n",
    "            ty_extended = np.zeros((len(test_idx_range_full), y.shape[1]))\n",
    "            ty_extended[test_idx_range - min(test_idx_range), :] = ty\n",
    "            ty = ty_extended\n",
    "\n",
    "        features = sp.vstack((allx, tx)).tolil()\n",
    "        features[test_idx_reorder, :] = features[test_idx_range, :]\n",
    "        features = torch.FloatTensor(np.array(features.todense()))\n",
    "        adj = nx.adjacency_matrix(nx.from_dict_of_lists(graph))\n",
    "        \n",
    "        labels = np.vstack((ally, ty))\n",
    "        labels[test_idx_reorder, :] = labels[test_idx_range, :]\n",
    "        \n",
    "        idx_test = test_idx_range.tolist()\n",
    "        idx_train = range(len(y))\n",
    "        idx_val = range(len(y), len(y) + 500)\n",
    "\n",
    "        train_mask = sample_mask(idx_train, labels.shape[0])\n",
    "        val_mask = sample_mask(idx_val, labels.shape[0])\n",
    "        test_mask = sample_mask(idx_test, labels.shape[0])\n",
    "\n",
    "        y_train = np.zeros(labels.shape)\n",
    "        y_val = np.zeros(labels.shape)\n",
    "        y_test = np.zeros(labels.shape)\n",
    "        y_train[train_mask, :] = labels[train_mask, :]\n",
    "        y_val[val_mask, :] = labels[val_mask, :]\n",
    "        y_test[test_mask, :] = labels[test_mask, :]\n",
    "\n",
    "        adj = adj.toarray()\n",
    "        labels = labels.argmax(1)\n",
    "        # idx = labels.argsort(0)\n",
    "        # adj = adj[idx, :][:, idx]\n",
    "        # labels = labels[idx]\n",
    "        # features = features[idx]\n",
    "\n",
    "        adj = sp.coo_matrix(adj)\n",
    "        features = sp.coo_matrix(features)\n",
    "\n",
    "        return adj, features, labels\n",
    "    elif dataset == \"wiki\":\n",
    "        f = open('/data/yliumh/AutoAtClusterDatasets/AGE/data/graph.txt','r')\n",
    "        adj, xind, yind = [], [], []\n",
    "        for line in f.readlines():\n",
    "            line = line.split()\n",
    "            \n",
    "            xind.append(int(line[0]))\n",
    "            yind.append(int(line[1]))\n",
    "            adj.append([int(line[0]), int(line[1])])\n",
    "        f.close()\n",
    "        ##print(len(adj))\n",
    "\n",
    "        f = open('/data/yliumh/AutoAtClusterDatasets/AGE/data/group.txt','r')\n",
    "        label = []\n",
    "        for line in f.readlines():\n",
    "            line = line.split()\n",
    "            label.append(int(line[1]))\n",
    "        f.close()\n",
    "\n",
    "        f = open('/data/yliumh/AutoAtClusterDatasets/AGE/data/tfidf.txt','r')\n",
    "        fea_idx = []\n",
    "        fea = []\n",
    "        adj = np.array(adj)\n",
    "        adj = np.vstack((adj, adj[:,[1,0]]))\n",
    "        adj = np.unique(adj, axis=0)\n",
    "        \n",
    "        labelset = np.unique(label)\n",
    "        labeldict = dict(zip(labelset, range(len(labelset))))\n",
    "        label = np.array([labeldict[x] for x in label])\n",
    "        adj = sp.coo_matrix((np.ones(len(adj)), (adj[:,0], adj[:,1])), shape=(len(label), len(label)))\n",
    "\n",
    "        for line in f.readlines():\n",
    "            line = line.split()\n",
    "            fea_idx.append([int(line[0]), int(line[1])])\n",
    "            fea.append(float(line[2]))\n",
    "        f.close()\n",
    "\n",
    "        fea_idx = np.array(fea_idx)\n",
    "        features = sp.coo_matrix((fea, (fea_idx[:,0], fea_idx[:,1])), shape=(len(label), 4973)).toarray()\n",
    "        scaler = preprocessing.MinMaxScaler()\n",
    "        #features = preprocess.normalize(features, norm='l2')\n",
    "        features = scaler.fit_transform(features)\n",
    "        # features = torch.FloatTensor(features)\n",
    "        features = sp.coo_matrix(features)\n",
    "\n",
    "        return adj, features, label\n",
    "    elif dataset in [\"ogbn-arxiv\", \"ogbn-products\"]:\n",
    "        dataset = DglNodePropPredDataset(name=\"{}\".format(dataset))\n",
    "        g, labels = dataset[0]\n",
    "        # edge_indices = g.adj_sparse(fmt=\"coo\")\n",
    "        edge_indices = g.adj().indices()\n",
    "        n, m = labels.shape[0], edge_indices[0].shape[0]\n",
    "        adj = sp.coo_matrix((np.ones(m), (edge_indices[0].numpy(), edge_indices[1].numpy())), shape=(n,n))\n",
    "        features = g.ndata[\"feat\"]\n",
    "        features = sp.coo_matrix(features)\n",
    "\n",
    "        if labels.ndim > 1:\n",
    "            if labels.shape[1] == 1:\n",
    "                labels = labels.view(-1)\n",
    "            else:\n",
    "                labels = labels.argmax(1)\n",
    "        labels = labels.numpy()\n",
    "        return adj, features, labels\n",
    "    elif dataset in [\"amazon-photo\", \"amazon-computers\", \"cora-full\"]:\n",
    "        map2names = {\n",
    "            \"amazon-photo\": \"/data/yliumh/AutoAtClusterDatasets/gnn-benchmark/data/npz/amazon_electronics_photo.npz\",\n",
    "            \"amazon-computers\": \"/data/yliumh/AutoAtClusterDatasets/gnn-benchmark/data/npz/amazon_electronics_computers.npz\",\n",
    "            \"cora-full\": \"/data/yliumh/AutoAtClusterDatasets/gnn-benchmark/data/npz/cora_full.npz\",\n",
    "        }\n",
    "\n",
    "        data = np.load(map2names[dataset])\n",
    "        # print(list(data.keys()))\n",
    "        adj_data, adj_indices, adj_indptr, adj_shape = data[\"adj_data\"], data[\"adj_indices\"], data[\"adj_indptr\"], data[\"adj_shape\"]\n",
    "        attr_data, attr_indices, attr_indptr, attr_shape = data[\"attr_data\"], data[\"attr_indices\"], data[\"attr_indptr\"], data[\"attr_shape\"]\n",
    "        labels = data[\"labels\"]\n",
    "\n",
    "        adj = sp.csr_matrix((adj_data, adj_indices, adj_indptr), shape=adj_shape).tocoo()\n",
    "        features = sp.csr_matrix((attr_data, attr_indices, attr_indptr), shape=attr_shape).tocoo()\n",
    "\n",
    "        if labels.ndim > 1:\n",
    "            if labels.shape[1] == 1:\n",
    "                labels = labels.reshape(-1)\n",
    "            else:\n",
    "                labels = labels.argmax(1)\n",
    "\n",
    "        return adj, features, labels\n",
    "    else:\n",
    "        raise NotImplementedError()"
   ]
  },
  {
   "cell_type": "code",
   "execution_count": null,
   "id": "50701f6d",
   "metadata": {},
   "outputs": [],
   "source": []
  },
  {
   "cell_type": "code",
   "execution_count": null,
   "id": "12826c9a",
   "metadata": {},
   "outputs": [],
   "source": []
  },
  {
   "cell_type": "code",
   "execution_count": 14,
   "id": "11ecf884",
   "metadata": {},
   "outputs": [],
   "source": [
    "dataset = \"cora-full\""
   ]
  },
  {
   "cell_type": "code",
   "execution_count": 15,
   "id": "20d7154d",
   "metadata": {},
   "outputs": [],
   "source": [
    "adj_raw, features_raw, labels_raw = load_assortative(dataset)"
   ]
  },
  {
   "cell_type": "code",
   "execution_count": 16,
   "id": "e52f636c-734f-4fcd-968d-3c5a019bb3bb",
   "metadata": {},
   "outputs": [
    {
     "name": "stdout",
     "output_type": "stream",
     "text": [
      "def plot_superadj(adj, K=100, sparse=True, labels=None, dataset=\"\", vline=False):\n",
      "    if labels is not None:\n",
      "        idx = np.argsort(labels, 0)\n",
      "        if sparse:\n",
      "            # adj = reorder_sparse(adj, idx)\n",
      "            adj = reorder_sparse_coo(adj, idx)\n",
      "        else:\n",
      "            adj = adj[idx, :][:, idx]\n",
      "    n = adj.shape[0]\n",
      "\n",
      "    adj = superPixels(adj, K, sparse=sparse)\n",
      "    plt.figure()\n",
      "    ax = plt.gca()\n",
      "    plt.imshow(adj, cmap=\"coolwarm\")\n",
      "    plt.colorbar()\n",
      "    if labels is not None and vline:\n",
      "        labels = np.array(labels, dtype=int)\n",
      "        labels = np.sort(labels)\n",
      "        minl, maxl = labels[0], labels[-1]\n",
      "        xs = []\n",
      "        for l in range(minl+1, maxl+1):\n",
      "            idx = np.searchsorted(labels, l)\n",
      "            xs.append(idx)\n",
      "        unit = n // K\n",
      "        xs = [x / unit for x in xs]\n",
      "        for x in xs:\n",
      "            plt.axvline(x=x, color=\"red\")\n",
      "    # plt.clim(0.0, 0.04)\n",
      "    os.makedirs(\"pics\", exist_ok=True)\n",
      "    plt.savefig(\"pics/adj_{}.png\".format(dataset))\n",
      "\n"
     ]
    }
   ],
   "source": [
    "import inspect\n",
    "lines = inspect.getsource(plot_superadj)\n",
    "print(lines)"
   ]
  },
  {
   "cell_type": "code",
   "execution_count": 17,
   "id": "e5460240",
   "metadata": {},
   "outputs": [
    {
     "name": "stderr",
     "output_type": "stream",
     "text": [
      "100%|█████████████████████████████████████████████████████████| 100/100 [00:04<00:00, 20.97it/s]\n"
     ]
    },
    {
     "data": {
      "image/png": "[encoded data removed]",
      "text/plain": [
       "<Figure size 640x480 with 2 Axes>"
      ]
     },
     "metadata": {},
     "output_type": "display_data"
    }
   ],
   "source": [
    "plot_superadj(adj_raw, K=100, sparse=True, labels=labels_raw, dataset=dataset, vline=True)"
   ]
  },
  {
   "cell_type": "code",
   "execution_count": 7,
   "id": "f65c1795",
   "metadata": {},
   "outputs": [
    {
     "name": "stdout",
     "output_type": "stream",
     "text": [
      "Number of Nodes: 169343\n",
      "Number of Edges: 1166243.0\n",
      "Dim of features: 128\n",
      "Number of Classes: 40\n",
      "Number of nodes in each class: [  565   687  4839  2080  5862  4958  1618   589  6232  2820  7869   750\n",
      "    29  2358   597   403 27321   515   749  2877  2076   393  1903  2834\n",
      " 22187  1257  4605  4801 21406   416 11814  2828   411  1271  7867   127\n",
      "  3524  2369  1507  2029]\n"
     ]
    }
   ],
   "source": [
    "labels_s = np.sort(np.unique(labels_raw))\n",
    "nclass = labels_s.shape[0]\n",
    "node_sizes = []\n",
    "for cls_id in labels_s:\n",
    "    node_sizes.append(np.where(labels_raw==cls_id)[0].shape[0])\n",
    "node_sizes = np.array(node_sizes)\n",
    "\n",
    "print(\"Number of Nodes: {}\".format(adj_raw.shape[0]))\n",
    "print(\"Number of Edges: {}\".format(adj_raw.sum()))\n",
    "print(\"Dim of features: {}\".format(features_raw.shape[-1]))\n",
    "print(\"Number of Classes: {}\".format(nclass))\n",
    "print(\"Number of nodes in each class: {}\".format(node_sizes))"
   ]
  },
  {
   "cell_type": "code",
   "execution_count": 8,
   "id": "80b9a685",
   "metadata": {},
   "outputs": [
    {
     "name": "stdout",
     "output_type": "stream",
     "text": [
      "500 34\n",
      "1000 27\n",
      "2000 22\n",
      "3000 13\n",
      "4000 12\n"
     ]
    }
   ],
   "source": [
    "print(500, (np.array(node_sizes)>=500).sum())\n",
    "print(1000, (np.array(node_sizes)>=1000).sum())\n",
    "print(2000, (np.array(node_sizes)>=2000).sum())\n",
    "print(3000, (np.array(node_sizes)>=3000).sum())\n",
    "print(4000, (np.array(node_sizes)>=4000).sum())"
   ]
  },
  {
   "cell_type": "code",
   "execution_count": null,
   "id": "e0ed8d3b",
   "metadata": {},
   "outputs": [],
   "source": []
  },
  {
   "cell_type": "code",
   "execution_count": 9,
   "id": "223cafce-772d-4a99-bbdf-5d529c285526",
   "metadata": {},
   "outputs": [],
   "source": [
    "def sample_classes(adj, features, labels, rate=0.1, seed=None):\n",
    "    n, d = features.shape\n",
    "    labels_s = np.sort(np.unique(labels))\n",
    "#     print(labels_s)\n",
    "    nclass = labels_s.shape[0]\n",
    "    assert nclass > 1\n",
    "    \n",
    "    mask = np.zeros(n)\n",
    "    for cls_id in labels_s:\n",
    "        # exist_prob = rate + (1.0 - rate) / (nclass-1) * cls_id\n",
    "        exist_prob = rate # Set same prob to each class\n",
    "        node_ids = np.where(labels==cls_id)[0]\n",
    "        n_ = node_ids.shape[0]\n",
    "#         print(n_)\n",
    "        mask_ = np.random.RandomState(seed=seed).binomial(1, exist_prob, size=(n_))\n",
    "        \n",
    "        mask[node_ids] = mask_\n",
    "    \n",
    "    mask = np.nonzero(mask)[0]\n",
    "    \n",
    "    adj = adj.toarray()[mask, :][:, mask]\n",
    "    adj = sp.coo_matrix(adj)\n",
    "    features = features.toarray()[mask]\n",
    "    features = sp.coo_matrix(features)\n",
    "    labels = labels[mask]\n",
    "\n",
    "    mask = [v for v in mask]\n",
    "    \n",
    "    return adj, features, labels, mask"
   ]
  },
  {
   "cell_type": "code",
   "execution_count": null,
   "id": "21abf9b5-fd90-4f06-a671-e0353516becf",
   "metadata": {},
   "outputs": [],
   "source": []
  },
  {
   "cell_type": "code",
   "execution_count": 10,
   "id": "275acd14",
   "metadata": {},
   "outputs": [
    {
     "name": "stdout",
     "output_type": "stream",
     "text": [
      "(17618, 17618) 11495.0\n",
      "(16819, 16819) 11762.0\n",
      "(17124, 17124) 13817.0\n",
      "(17045, 17045) 11532.0\n",
      "(17609, 17609) 11339.0\n",
      "(17056, 17056) 12535.0\n",
      "(17094, 17094) 10816.0\n",
      "(16850, 16850) 14591.0\n",
      "(16127, 16127) 11631.0\n",
      "(16572, 16572) 10741.0\n"
     ]
    }
   ],
   "source": [
    "rate = 0.1\n",
    "nseeds = 10\n",
    "for seed in range(nseeds):\n",
    "    adj_s, features_s, labels_s, mask = sample_classes(adj_raw, features_raw, labels_raw, rate=rate, seed=seed)\n",
    "    print(adj_s.shape, adj_s.sum())\n",
    "#     plot_superadj(adj_s2, K=100, sparse=False, labels=labels_s2, dataset=dataset+\"_{}\".format(rention_rate), vline=True)\n",
    "    np.savez(\"dataset/{}_{:.1f}_{:d}_kd.npz\".format(dataset, rate, seed), data=adj_s.data, row=adj_s.row, col=adj_s.col, features=features_s.toarray(), labels=labels_s, mask=mask)"
   ]
  },
  {
   "cell_type": "code",
   "execution_count": 11,
   "id": "d8939e02",
   "metadata": {},
   "outputs": [
    {
     "name": "stderr",
     "output_type": "stream",
     "text": [
      "100%|█████████████████████████████████████████████████████████| 100/100 [00:01<00:00, 78.60it/s]\n"
     ]
    },
    {
     "data": {
      "image/png": "[encoded data removed]",
      "text/plain": [
       "<Figure size 640x480 with 2 Axes>"
      ]
     },
     "metadata": {},
     "output_type": "display_data"
    }
   ],
   "source": [
    "plot_superadj(adj_s, K=100, sparse=True, labels=labels_s, dataset=dataset, vline=True)"
   ]
  },
  {
   "cell_type": "code",
   "execution_count": null,
   "id": "c84b0189",
   "metadata": {},
   "outputs": [],
   "source": []
  },
  {
   "cell_type": "code",
   "execution_count": null,
   "id": "6fa7f738",
   "metadata": {},
   "outputs": [],
   "source": []
  },
  {
   "cell_type": "code",
   "execution_count": null,
   "id": "1f7d37dd",
   "metadata": {},
   "outputs": [],
   "source": []
  },
  {
   "cell_type": "code",
   "execution_count": null,
   "id": "adba0aac",
   "metadata": {},
   "outputs": [],
   "source": []
  }
 ],
 "metadata": {
  "kernelspec": {
   "display_name": "Python 3 (ipykernel)",
   "language": "python",
   "name": "python3"
  },
  "language_info": {
   "codemirror_mode": {
    "name": "ipython",
    "version": 3
   },
   "file_extension": ".py",
   "mimetype": "text/x-python",
   "name": "python",
   "nbconvert_exporter": "python",
   "pygments_lexer": "ipython3",
   "version": "3.10.13"
  }
 },
 "nbformat": 4,
 "nbformat_minor": 5
}
