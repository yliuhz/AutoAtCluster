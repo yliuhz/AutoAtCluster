{
 "cells": [
  {
   "cell_type": "code",
   "execution_count": 1,
   "id": "1352303a",
   "metadata": {},
   "outputs": [],
   "source": [
    "import numpy as np\n",
    "import matplotlib.pyplot as plt\n",
    "# from vis import plot_superadj\n",
    "from sklearn.metrics import normalized_mutual_info_score as NMI, adjusted_mutual_info_score as AMI, adjusted_rand_score as ARI"
   ]
  },
  {
   "cell_type": "code",
   "execution_count": null,
   "id": "24f080a9",
   "metadata": {},
   "outputs": [],
   "source": []
  },
  {
   "cell_type": "code",
   "execution_count": 2,
   "id": "add0d5c1",
   "metadata": {},
   "outputs": [],
   "source": [
    "import pickle as pkl\n",
    "\n",
    "import networkx as nx\n",
    "import numpy as np\n",
    "import scipy.sparse as sp\n",
    "import torch\n",
    "import matplotlib.pyplot as plt\n",
    "from sklearn.metrics import roc_auc_score, average_precision_score\n",
    "import sklearn.preprocessing as preprocess\n",
    "import sys\n",
    "def load_data(dataset_str): # {'pubmed', 'citeseer', 'cora'}\n",
    "    \"\"\"Load data.\"\"\"\n",
    "\n",
    "    if dataset_str == 'wiki':\n",
    "        adj, features, label = load_wiki()\n",
    "        return adj, features, label, 0, 0, 0\n",
    "\n",
    "    elif dataset_str in [\"cora\", \"citeseer\", \"pubmed\"]:\n",
    "\n",
    "        names = ['x', 'y', 'tx', 'ty', 'allx', 'ally', 'graph']\n",
    "        objects = []\n",
    "        for i in range(len(names)):\n",
    "            with open(\"/data/liuyue/New/AGE/data/ind.{}.{}\".format(dataset_str, names[i]), 'rb') as f:\n",
    "                if sys.version_info > (3, 0):\n",
    "                    objects.append(pkl.load(f, encoding='latin1'))\n",
    "                else:\n",
    "                    objects.append(pkl.load(f))\n",
    "\n",
    "        x, y, tx, ty, allx, ally, graph = tuple(objects)\n",
    "        test_idx_reorder = parse_index_file(\"/data/liuyue/New/AGE/data/ind.{}.test.index\".format(dataset_str))\n",
    "        test_idx_range = np.sort(test_idx_reorder)\n",
    "\n",
    "        if dataset_str == 'citeseer':\n",
    "            # Fix citeseer dataset (there are some isolated nodes in the graph)\n",
    "            # Find isolated nodes, add them as zero-vecs into the right position\n",
    "            test_idx_range_full = range(min(test_idx_reorder), max(test_idx_reorder)+1)\n",
    "            tx_extended = sp.lil_matrix((len(test_idx_range_full), x.shape[1]))\n",
    "            tx_extended[test_idx_range-min(test_idx_range), :] = tx\n",
    "            tx = tx_extended\n",
    "            ty_extended = np.zeros((len(test_idx_range_full), y.shape[1]))\n",
    "            ty_extended[test_idx_range-min(test_idx_range), :] = ty\n",
    "            ty = ty_extended\n",
    "\n",
    "        features = sp.vstack((allx, tx)).tolil()\n",
    "        features[test_idx_reorder, :] = features[test_idx_range, :]\n",
    "        adj = nx.adjacency_matrix(nx.from_dict_of_lists(graph))\n",
    "\n",
    "        labels = np.vstack((ally, ty))\n",
    "        labels[test_idx_reorder, :] = labels[test_idx_range, :]\n",
    "\n",
    "        idx_test = test_idx_range.tolist()\n",
    "        idx_train = range(len(y))\n",
    "        idx_val = range(len(y), len(y)+500)\n",
    "\n",
    "\n",
    "        if labels.ndim > 1:\n",
    "            if labels.shape[1] == 1:\n",
    "                labels = labels.view(-1)\n",
    "            else:\n",
    "                labels = labels.argmax(1)\n",
    "\n",
    "    elif dataset_str in [\"amazon-photo\", \"amazon-computers\", \"cora-full\"]:\n",
    "        map2names = {\n",
    "            \"amazon-photo\": \"/data/liuyue/New/SBM/mySBM/data/amazon_electronics_photo.npz\",\n",
    "            \"amazon-computers\": \"/data/liuyue/New/SBM/mySBM/data/amazon_electronics_computers.npz\",\n",
    "            \"cora-full\": \"/data/liuyue/New/SBM/mySBM/data/cora_full.npz\",\n",
    "        }\n",
    "\n",
    "        data = np.load(map2names[dataset_str])\n",
    "        # print(list(data.keys()))\n",
    "        adj_data, adj_indices, adj_indptr, adj_shape = data[\"adj_data\"], data[\"adj_indices\"], data[\"adj_indptr\"], data[\"adj_shape\"]\n",
    "        attr_data, attr_indices, attr_indptr, attr_shape = data[\"attr_data\"], data[\"attr_indices\"], data[\"attr_indptr\"], data[\"attr_shape\"]\n",
    "        labels = data[\"labels\"]\n",
    "\n",
    "        adj = sp.csr_matrix((adj_data, adj_indices, adj_indptr), shape=adj_shape).tocoo()\n",
    "        features = sp.csr_matrix((attr_data, attr_indices, attr_indptr), shape=attr_shape).tocoo()\n",
    "\n",
    "        if labels.ndim > 1:\n",
    "            if labels.shape[1] == 1:\n",
    "                labels = labels.reshape(-1)\n",
    "            else:\n",
    "                labels = labels.argmax(1)\n",
    "\n",
    "        return adj, features, labels, 0, 0, 0\n",
    "\n",
    "    return adj, features, labels, idx_train, idx_val, idx_test\n",
    "\n",
    "def load_wiki():\n",
    "    f = open('/data/liuyue/New/AGE/data/graph.txt','r')\n",
    "    adj, xind, yind = [], [], []\n",
    "    for line in f.readlines():\n",
    "        line = line.split()\n",
    "        \n",
    "        xind.append(int(line[0]))\n",
    "        yind.append(int(line[1]))\n",
    "        adj.append([int(line[0]), int(line[1])])\n",
    "    f.close()\n",
    "    ##print(len(adj))\n",
    "\n",
    "    f = open('/data/liuyue/New/AGE/data/group.txt','r')\n",
    "    label = []\n",
    "    for line in f.readlines():\n",
    "        line = line.split()\n",
    "        label.append(int(line[1]))\n",
    "    f.close()\n",
    "\n",
    "    f = open('/data/liuyue/New/AGE/data/tfidf.txt','r')\n",
    "    fea_idx = []\n",
    "    fea = []\n",
    "    adj = np.array(adj)\n",
    "    adj = np.vstack((adj, adj[:,[1,0]]))\n",
    "    adj = np.unique(adj, axis=0)\n",
    "    \n",
    "    labelset = np.unique(label)\n",
    "    labeldict = dict(zip(labelset, range(len(labelset))))\n",
    "    label = np.array([labeldict[x] for x in label])\n",
    "    adj = sp.csr_matrix((np.ones(len(adj)), (adj[:,0], adj[:,1])), shape=(len(label), len(label)))\n",
    "\n",
    "    for line in f.readlines():\n",
    "        line = line.split()\n",
    "        fea_idx.append([int(line[0]), int(line[1])])\n",
    "        fea.append(float(line[2]))\n",
    "    f.close()\n",
    "\n",
    "    fea_idx = np.array(fea_idx)\n",
    "    features = sp.csr_matrix((fea, (fea_idx[:,0], fea_idx[:,1])), shape=(len(label), 4973)).toarray()\n",
    "    scaler = preprocess.MinMaxScaler()\n",
    "    #features = preprocess.normalize(features, norm='l2')\n",
    "    features = scaler.fit_transform(features)\n",
    "    features = torch.FloatTensor(features)\n",
    "\n",
    "    return adj, features, label\n",
    "def parse_index_file(filename):\n",
    "    index = []\n",
    "    for line in open(filename):\n",
    "        index.append(int(line.strip()))\n",
    "    return index\n",
    "def sample_mask(idx, l):\n",
    "    \"\"\"Create mask.\"\"\"\n",
    "    mask = np.zeros(l)\n",
    "    mask[idx] = 1\n",
    "    return np.array(mask, dtype=np.bool)\n",
    "def load_cora_full_diff_cls(nclass=10, seed=None):\n",
    "    filename = \"/data/liuyue/New/SBM/mySBM/data_diff_cls/cora-full_{}_{}.npz\".format(nclass, seed)\n",
    "    data = np.load(filename)\n",
    "\n",
    "    adj_raw, features_raw, labels_raw, _, _, _ = load_data(\"cora-full\")\n",
    "\n",
    "    adj_data, adj_row, adj_col, features_load, labels_load, mask = data[\"data\"], data[\"row\"], data[\"col\"], data[\"features\"], data[\"labels\"], data[\"mask\"]\n",
    "    adj_load = sp.coo_matrix((adj_data, (adj_row, adj_col)), shape=(labels_load.shape[0], labels_load.shape[0]))\n",
    "\n",
    "    adj_mask = adj_raw.toarray()[mask,:][:,mask]\n",
    "    assert (adj_mask - adj_load).sum() < 1e-7\n",
    "    features_mask = features_raw.toarray()[mask]\n",
    "    assert (features_mask - features_load).sum() < 1e-7\n",
    "\n",
    "    return adj_load, features_load, labels_load, mask"
   ]
  },
  {
   "cell_type": "code",
   "execution_count": 3,
   "id": "d899eebd",
   "metadata": {},
   "outputs": [],
   "source": [
    "dataset = \"cora-full\"\n",
    "seed = 0\n",
    "edge_size = 10\n",
    "nclass = 2\n",
    "adj, _, labels, mask = load_cora_full_diff_cls(nclass=nclass, seed=seed)"
   ]
  },
  {
   "cell_type": "code",
   "execution_count": 4,
   "id": "85a8e9ae",
   "metadata": {},
   "outputs": [
    {
     "name": "stdout",
     "output_type": "stream",
     "text": [
      "600 1043.0\n"
     ]
    }
   ],
   "source": [
    "n, m = adj.shape[0], adj.sum()\n",
    "print(adj.shape[0], adj.sum())"
   ]
  },
  {
   "cell_type": "code",
   "execution_count": null,
   "id": "c7aeddc3",
   "metadata": {},
   "outputs": [],
   "source": []
  },
  {
   "cell_type": "code",
   "execution_count": null,
   "id": "b9e96c6c",
   "metadata": {},
   "outputs": [],
   "source": []
  },
  {
   "cell_type": "code",
   "execution_count": 5,
   "id": "dc27fa9c",
   "metadata": {},
   "outputs": [
    {
     "name": "stderr",
     "output_type": "stream",
     "text": [
      "Using backend: pytorch\n"
     ]
    }
   ],
   "source": [
    "from locale import normalize\n",
    "import os\n",
    "import time\n",
    "import argparse\n",
    "from turtle import pos\n",
    "import numpy as np\n",
    "import torch\n",
    "import torch.nn as nn\n",
    "import torch.nn.functional as F\n",
    "import networkx as nx\n",
    "from dgl import DGLGraph\n",
    "import dgl.function as fn\n",
    "\n",
    "import matplotlib.pyplot as plt\n",
    "from sklearn.manifold import TSNE\n",
    "from sklearn.preprocessing import normalize\n",
    "\n",
    "import warnings\n",
    "warnings.simplefilter(action='ignore', category=FutureWarning)\n",
    "warnings.simplefilter(action='ignore', category=RuntimeWarning)\n",
    "warnings.simplefilter(action='ignore', category=UserWarning)\n",
    "warnings.simplefilter(action='ignore', category=DeprecationWarning)\n",
    "\n",
    "# torch.cuda.set_device(0)\n",
    "\n",
    "import dgl\n",
    "from tqdm import tqdm\n",
    "from mpl_toolkits.axes_grid1 import make_axes_locatable\n",
    "\n",
    "import itertools\n",
    "import scipy.sparse as sp\n",
    "\n",
    "# csr_matrix: 行内indices动, data不动; 行间indices动, data动\n",
    "# sparse_matrix: n * n\n",
    "def reorder_sparse(sparse_matrix, new_idx):\n",
    "    indices, indptr, data = sparse_matrix.indices, sparse_matrix.indptr, sparse_matrix.data\n",
    "    n = sparse_matrix.shape[0]\n",
    "    new_idx = np.array(new_idx)\n",
    "    new_idx_s = np.argsort(new_idx)\n",
    "    indices_l, data_l = [], []\n",
    "    for i in range(n):\n",
    "        indices_l.append(indices[indptr[i]:indptr[i+1]].tolist())\n",
    "        data_l.append(data[indptr[i]:indptr[i+1]].tolist())\n",
    "    # 先行内动\n",
    "    for i in range(n):\n",
    "        temp = [new_idx_s[j] for j in indices_l[i]]\n",
    "        indices_l[i] = temp\n",
    "    \n",
    "    # 再行间动\n",
    "    indices_l = [indices_l[i] for i in new_idx]\n",
    "    data_l = [data_l[i] for i in new_idx]\n",
    "    new_indptr = [0]\n",
    "    for i in range(n):\n",
    "        new_indptr.append(new_indptr[i]+len(indices_l[i]))\n",
    "    new_indices = list(itertools.chain(*indices_l))\n",
    "    new_data = list(itertools.chain(*data_l))\n",
    "\n",
    "    ret = sp.csr_matrix((new_data, new_indices, new_indptr), shape=(n,n)).sorted_indices()\n",
    "    return ret\n",
    "\n",
    "def reorder_sparse_coo(sparse_matrix, new_idx):\n",
    "    sparse_matrix = sparse_matrix.tocoo()\n",
    "    row, col, data = sparse_matrix.row, sparse_matrix.col, sparse_matrix.data\n",
    "    n = sparse_matrix.shape[0]\n",
    "    new_idx = np.array(new_idx)\n",
    "    new_idx_s = np.argsort(new_idx)\n",
    "\n",
    "    row, col = new_idx_s[row], new_idx_s[col]\n",
    "\n",
    "    return sp.coo_matrix((data, (row, col)), shape=(n,n))\n",
    "\n",
    "\n",
    "\n",
    "def superPixels(adj, K=100, sparse=False):\n",
    "    n = adj.shape[0]\n",
    "    unit = n // K\n",
    "    superadj = np.zeros((K, K))\n",
    "    if not sparse:\n",
    "        print(\"N sparse\")\n",
    "        for i in range(K):\n",
    "            for j in range(K):\n",
    "                temp = adj[(i*unit):min((i+1)*unit, n), (j*unit):min((j+1)*unit, n)]\n",
    "                superadj[i, j] = temp.mean()\n",
    "    else:\n",
    "        adj = adj.tocsr()\n",
    "        indices, indptr, data = adj.indices, adj.indptr, adj.data\n",
    "        for i in tqdm(range(K), total=K):\n",
    "            for j in range(K):\n",
    "                row_min = i*unit\n",
    "                row_max = min((i+1)*unit, n)\n",
    "                col_min = j*unit\n",
    "                col_max = min((j+1)*unit, n)\n",
    "                \n",
    "                temp = 0.\n",
    "\n",
    "                for row in range(row_min, row_max):\n",
    "                    indices_ = indices[indptr[row]:indptr[row+1]]\n",
    "                    if len(indices_) > 0 and indices_[-1] >= col_min and indices_[0] < col_max:\n",
    "                        st = np.searchsorted(indices_, col_min)\n",
    "                        ed = np.searchsorted(indices_, col_max)\n",
    "                        # st += indptr[row]\n",
    "                        # ed += indptr[row]\n",
    "                        # temp += data[st:ed].sum()\n",
    "                        temp += ed - st\n",
    "                        # for k in range(indptr[row], indptr[row+1]):\n",
    "                        #     if indices[k] >= col_min and indices[k] < col_max:\n",
    "                        #         temp += data[k]\n",
    "                        #         cnt += 1\n",
    "\n",
    "                temp /= (row_max - row_min) * (col_max - col_min)\n",
    "\n",
    "                superadj[i, j] = temp\n",
    "    return superadj\n",
    "\n",
    "def plot_superadj(adj, K=100, sparse=True, labels=None, dataset=\"\", folder=None, vline=False, clim=None):\n",
    "    print(123)\n",
    "\n",
    "    if labels is not None:\n",
    "        idx = np.argsort(labels, 0)\n",
    "        if sparse:\n",
    "            # adj = reorder_sparse(adj, idx)\n",
    "            adj = reorder_sparse_coo(adj, idx)\n",
    "        else:\n",
    "            adj = adj[idx, :][:, idx]\n",
    "    n = adj.shape[0]\n",
    "\n",
    "    adj = superPixels(adj, K, sparse=sparse)\n",
    "    plt.figure()\n",
    "    ax = plt.gca()\n",
    "    plt.imshow(adj, cmap=\"coolwarm\")\n",
    "    plt.colorbar()\n",
    "    if labels is not None and vline:\n",
    "        labels = np.array(labels, dtype=np.int)\n",
    "        labels = np.sort(labels)\n",
    "        minl, maxl = labels[0], labels[-1]\n",
    "        xs = []\n",
    "        for l in range(minl+1, maxl+1):\n",
    "            idx = np.searchsorted(labels, l)\n",
    "            xs.append(idx)\n",
    "        unit = n // K\n",
    "        xs = [x / unit for x in xs]\n",
    "        for x in xs:\n",
    "            plt.axvline(x=x, color=\"red\")\n",
    "            \n",
    "    plt.clim(0.0, 1.0)\n",
    "\n",
    "    if folder is None:\n",
    "        os.makedirs(\"pics\", exist_ok=True)\n",
    "        plt.savefig(\"pics/adj_{}.png\".format(dataset))\n",
    "    else:\n",
    "        os.makedirs(\"pics/{}\".format(folder), exist_ok=True)\n",
    "        plt.savefig(\"pics/{}/adj_{}.png\".format(folder, dataset))\n"
   ]
  },
  {
   "cell_type": "code",
   "execution_count": 6,
   "id": "e9aecff8",
   "metadata": {},
   "outputs": [],
   "source": [
    "def louvain_cluster(adj, labels, random_state=None):\n",
    "    from community import community_louvain\n",
    "    import networkx as nx\n",
    "    from sklearn.metrics import normalized_mutual_info_score as NMI, adjusted_mutual_info_score as AMI\n",
    "\n",
    "    graph = nx.from_scipy_sparse_matrix(adj)\n",
    "    partition = community_louvain.best_partition(graph, random_state=random_state)\n",
    "    preds = list(partition.values())\n",
    "\n",
    "    return preds"
   ]
  },
  {
   "cell_type": "code",
   "execution_count": 28,
   "id": "570eaf3a",
   "metadata": {},
   "outputs": [],
   "source": [
    "def infomap_cluster(adj, labels, random_state=None):\n",
    "    graph = nx.from_scipy_sparse_matrix(adj)\n",
    "    \n",
    "    from infomap import Infomap\n",
    "    im = Infomap(silent=True)\n",
    "    mapping = im.add_networkx_graph(graph)\n",
    "    im.run()\n",
    "    partition = im.get_dataframe(columns=[\"node_id\", \"module_id\"])\n",
    "    partition = partition.sort_values(by=\"node_id\")\n",
    "    preds = partition[\"module_id\"].tolist()\n",
    "    \n",
    "#     print(partition)\n",
    "#     print(preds)\n",
    "    \n",
    "    return preds"
   ]
  },
  {
   "cell_type": "code",
   "execution_count": 46,
   "id": "2edfd6c6",
   "metadata": {},
   "outputs": [],
   "source": [
    "def degin_degout(adj, labels):\n",
    "    adj = adj.toarray()\n",
    "    nclass = np.unique(labels).shape[0]\n",
    "    \n",
    "    ret = []\n",
    "    for cls_id in range(nclass):\n",
    "        node_ids = np.where(labels == cls_id)[0]\n",
    "        \n",
    "        sub_adj = adj[node_ids, :][:, node_ids]\n",
    "        degin = sub_adj.sum()\n",
    "        degout = adj[node_ids, :].sum() - degin\n",
    "        \n",
    "        ret.append(degin / degout)\n",
    "        \n",
    "    return ret"
   ]
  },
  {
   "cell_type": "code",
   "execution_count": null,
   "id": "87f5bfaf",
   "metadata": {},
   "outputs": [],
   "source": []
  },
  {
   "cell_type": "code",
   "execution_count": null,
   "id": "d698a4dc",
   "metadata": {},
   "outputs": [],
   "source": []
  },
  {
   "cell_type": "code",
   "execution_count": null,
   "id": "b0d9b338",
   "metadata": {},
   "outputs": [],
   "source": []
  },
  {
   "cell_type": "code",
   "execution_count": 7,
   "id": "0e0e7b35",
   "metadata": {},
   "outputs": [],
   "source": [
    "def pred2adj(preds, nclass=7):\n",
    "    preds = np.array(preds)\n",
    "    n = preds.shape[0]\n",
    "    adj = np.zeros((n,n))\n",
    "    \n",
    "    for cls_id in range(nclass):\n",
    "        node_ids = np.where(preds == cls_id)[0]\n",
    "        \n",
    "        mask1 = np.zeros((n,n))\n",
    "        mask1[node_ids, :] = 1\n",
    "        mask2 = np.zeros((n,n))\n",
    "        mask2[:, node_ids] = 1\n",
    "        \n",
    "        adj = adj + mask1 * mask2\n",
    "    \n",
    "    adj = sp.coo_matrix(adj)\n",
    "    return adj"
   ]
  },
  {
   "cell_type": "code",
   "execution_count": null,
   "id": "c46d7f65",
   "metadata": {},
   "outputs": [],
   "source": []
  },
  {
   "cell_type": "code",
   "execution_count": null,
   "id": "2dc6dda7",
   "metadata": {},
   "outputs": [],
   "source": []
  },
  {
   "cell_type": "markdown",
   "id": "0f41668a",
   "metadata": {},
   "source": [
    "## Baseline: KNN"
   ]
  },
  {
   "cell_type": "code",
   "execution_count": 47,
   "id": "ad8414a2",
   "metadata": {},
   "outputs": [
    {
     "name": "stdout",
     "output_type": "stream",
     "text": [
      "600 9218.046\n",
      "[34.93113, 60.756325]\n"
     ]
    }
   ],
   "source": [
    "data = np.load(\"/data/liuyue/New/SBM/mySBM/baselines/KNN/outputs_diff_cls/knn_adj_{}_{:d}.npz\".format(nclass, seed))\n",
    "adj_data, adj_row, adj_col = data[\"data\"], data[\"row\"], data[\"col\"]\n",
    "adj_s = sp.coo_matrix((adj_data, (adj_row, adj_col)), shape=(n,n))\n",
    "print(adj_s.shape[0], adj_s.sum())\n",
    "deg_rates = degin_degout(adj_s, labels)\n",
    "print(deg_rates)"
   ]
  },
  {
   "cell_type": "code",
   "execution_count": 9,
   "id": "7a89a51a",
   "metadata": {},
   "outputs": [
    {
     "name": "stdout",
     "output_type": "stream",
     "text": [
      "123\n"
     ]
    },
    {
     "name": "stderr",
     "output_type": "stream",
     "text": [
      "100%|██████████| 100/100 [00:00<00:00, 283.30it/s]\n"
     ]
    },
    {
     "data": {
      "image/png": "[encoded data removed]",
      "text/plain": [
       "<Figure size 640x480 with 2 Axes>"
      ]
     },
     "metadata": {},
     "output_type": "display_data"
    }
   ],
   "source": [
    "plot_superadj(adj_s, K=min(100,n), sparse=True, labels=labels, dataset=\"KNN_{}_{}_{:.1f}\".format(dataset, seed, edge_size), vline=True)"
   ]
  },
  {
   "cell_type": "code",
   "execution_count": 10,
   "id": "d78daf18",
   "metadata": {},
   "outputs": [],
   "source": [
    "preds = louvain_cluster(adj_s, labels, random_state=seed)\n",
    "nmi = NMI(labels, preds)\n",
    "ami = AMI(labels, preds)\n",
    "ari = ARI(labels, preds)"
   ]
  },
  {
   "cell_type": "code",
   "execution_count": 11,
   "id": "84a435ca",
   "metadata": {},
   "outputs": [
    {
     "name": "stdout",
     "output_type": "stream",
     "text": [
      "0.4292506019111316 0.4270131999778791 0.28578876622897215\n"
     ]
    }
   ],
   "source": [
    "print(nmi, ami, ari)"
   ]
  },
  {
   "cell_type": "code",
   "execution_count": 12,
   "id": "255a79d8",
   "metadata": {},
   "outputs": [],
   "source": [
    "adj_s = pred2adj(preds, nclass=nclass)"
   ]
  },
  {
   "cell_type": "code",
   "execution_count": 13,
   "id": "dcb3d70e",
   "metadata": {},
   "outputs": [
    {
     "name": "stdout",
     "output_type": "stream",
     "text": [
      "123\n"
     ]
    },
    {
     "name": "stderr",
     "output_type": "stream",
     "text": [
      "100%|██████████| 100/100 [00:00<00:00, 826.75it/s]\n"
     ]
    },
    {
     "data": {
      "image/png": "[encoded data removed]",
      "text/plain": [
       "<Figure size 640x480 with 2 Axes>"
      ]
     },
     "metadata": {},
     "output_type": "display_data"
    }
   ],
   "source": [
    "plot_superadj(adj_s, K=min(100,n), sparse=True, labels=labels, dataset=\"KNN_{}_{}_{:.1f}\".format(dataset, seed, edge_size), vline=True)"
   ]
  },
  {
   "cell_type": "code",
   "execution_count": null,
   "id": "17d26269",
   "metadata": {},
   "outputs": [],
   "source": []
  },
  {
   "cell_type": "code",
   "execution_count": null,
   "id": "b6436810",
   "metadata": {},
   "outputs": [],
   "source": []
  },
  {
   "cell_type": "code",
   "execution_count": null,
   "id": "320924e5",
   "metadata": {},
   "outputs": [],
   "source": []
  },
  {
   "cell_type": "code",
   "execution_count": 14,
   "id": "d387ad25",
   "metadata": {
    "scrolled": true
   },
   "outputs": [
    {
     "name": "stdout",
     "output_type": "stream",
     "text": [
      "600 11400.0\n"
     ]
    }
   ],
   "source": [
    "adj_data = np.ones_like(adj_data)\n",
    "adj_s = sp.coo_matrix((adj_data, (adj_row, adj_col)), shape=(n,n))\n",
    "print(adj_s.shape[0], adj_s.sum())"
   ]
  },
  {
   "cell_type": "code",
   "execution_count": 15,
   "id": "c9fa2567",
   "metadata": {},
   "outputs": [
    {
     "name": "stdout",
     "output_type": "stream",
     "text": [
      "123\n"
     ]
    },
    {
     "name": "stderr",
     "output_type": "stream",
     "text": [
      "100%|██████████| 100/100 [00:00<00:00, 327.17it/s]\n"
     ]
    },
    {
     "data": {
      "image/png": "[encoded data removed]",
      "text/plain": [
       "<Figure size 640x480 with 2 Axes>"
      ]
     },
     "metadata": {},
     "output_type": "display_data"
    }
   ],
   "source": [
    "plot_superadj(adj_s, K=min(100,n), sparse=True, labels=labels, dataset=\"KNN_{}_{}_{:.1f}\".format(dataset, seed, edge_size), vline=True)"
   ]
  },
  {
   "cell_type": "code",
   "execution_count": 16,
   "id": "fc22bd12",
   "metadata": {},
   "outputs": [],
   "source": [
    "preds = louvain_cluster(adj_s, labels, random_state=seed)\n",
    "nmi = NMI(labels, preds)\n",
    "ami = AMI(labels, preds)\n",
    "ari = ARI(labels, preds)"
   ]
  },
  {
   "cell_type": "code",
   "execution_count": 17,
   "id": "61c4a599",
   "metadata": {},
   "outputs": [
    {
     "name": "stdout",
     "output_type": "stream",
     "text": [
      "0.4489430981555022 0.4470309057843361 0.31822722819652705\n"
     ]
    }
   ],
   "source": [
    "print(nmi, ami, ari)"
   ]
  },
  {
   "cell_type": "code",
   "execution_count": 18,
   "id": "f1d898e2",
   "metadata": {},
   "outputs": [],
   "source": [
    "adj_s = pred2adj(preds, nclass)"
   ]
  },
  {
   "cell_type": "code",
   "execution_count": 19,
   "id": "2e2ae297",
   "metadata": {},
   "outputs": [
    {
     "name": "stdout",
     "output_type": "stream",
     "text": [
      "123\n"
     ]
    },
    {
     "name": "stderr",
     "output_type": "stream",
     "text": [
      "100%|██████████| 100/100 [00:00<00:00, 592.17it/s]\n"
     ]
    },
    {
     "data": {
      "image/png": "[encoded data removed]",
      "text/plain": [
       "<Figure size 640x480 with 2 Axes>"
      ]
     },
     "metadata": {},
     "output_type": "display_data"
    }
   ],
   "source": [
    "plot_superadj(adj_s, K=min(100,n), sparse=True, labels=labels, dataset=\"KNN_{}_{}_{:.1f}\".format(dataset, seed, edge_size), vline=True)"
   ]
  },
  {
   "cell_type": "code",
   "execution_count": null,
   "id": "ad6ddaa5",
   "metadata": {},
   "outputs": [],
   "source": []
  },
  {
   "cell_type": "code",
   "execution_count": null,
   "id": "6df525da",
   "metadata": {},
   "outputs": [],
   "source": []
  },
  {
   "cell_type": "markdown",
   "id": "9cc67f43",
   "metadata": {},
   "source": [
    "## DLouvain-KNN"
   ]
  },
  {
   "cell_type": "code",
   "execution_count": 48,
   "id": "4c0dd6fd",
   "metadata": {},
   "outputs": [],
   "source": [
    "data = np.load(\"/data/liuyue/New/SBM/mySBM/link_adj_diff_cls_knn/MVGRL/{}_{}_{}.npz\".format(dataset, nclass, seed))\n",
    "adj_data, adj_row, adj_col = data[\"data\"], data[\"row\"], data[\"col\"]\n",
    "adj_s = sp.coo_matrix((adj_data, (adj_row, adj_col)), shape=(n,n))"
   ]
  },
  {
   "cell_type": "code",
   "execution_count": 49,
   "id": "6aac29da",
   "metadata": {},
   "outputs": [],
   "source": [
    "def sampling(adj, rate=0.5, random_state=None):\n",
    "    if rate >= 1.0:\n",
    "        return adj\n",
    "\n",
    "    n = adj.shape[0]\n",
    "    adj = adj.toarray()\n",
    "    \n",
    "    ret = np.zeros((n,n))\n",
    "    \n",
    "    for i in range(n):\n",
    "        row_idx = adj[i].nonzero()[0]\n",
    "        arr = np.random.RandomState(seed=random_state).choice(row_idx, int(rate*row_idx.shape[0]), replace=False)\n",
    "        ret[i][arr] = 1\n",
    "    \n",
    "    return sp.coo_matrix(ret)"
   ]
  },
  {
   "cell_type": "code",
   "execution_count": 50,
   "id": "45dcd566",
   "metadata": {},
   "outputs": [
    {
     "name": "stdout",
     "output_type": "stream",
     "text": [
      "600 10129.0\n",
      "[26.80628272251309, 30.083870967741934]\n"
     ]
    }
   ],
   "source": [
    "adj_s = sampling(adj_s, rate=10*m/adj_s.sum(), random_state=seed)\n",
    "print(adj_s.shape[0], adj_s.sum())\n",
    "deg_rates = degin_degout(adj_s, labels)\n",
    "print(deg_rates)"
   ]
  },
  {
   "cell_type": "code",
   "execution_count": 23,
   "id": "d1d0a120",
   "metadata": {},
   "outputs": [
    {
     "name": "stdout",
     "output_type": "stream",
     "text": [
      "123\n"
     ]
    },
    {
     "name": "stderr",
     "output_type": "stream",
     "text": [
      "100%|██████████| 100/100 [00:00<00:00, 299.70it/s]\n"
     ]
    },
    {
     "data": {
      "image/png": "[encoded data removed]",
      "text/plain": [
       "<Figure size 640x480 with 2 Axes>"
      ]
     },
     "metadata": {},
     "output_type": "display_data"
    }
   ],
   "source": [
    "plot_superadj(adj_s, K=min(100,n), sparse=True, labels=labels, dataset=\"DLKNN_{}_{}_{:.1f}\".format(dataset, seed, edge_size), vline=True)"
   ]
  },
  {
   "cell_type": "code",
   "execution_count": 24,
   "id": "46c198f7",
   "metadata": {},
   "outputs": [],
   "source": [
    "preds = louvain_cluster(adj_s, labels, random_state=seed)\n",
    "nmi = NMI(labels, preds)\n",
    "ami = AMI(labels, preds)\n",
    "ari = ARI(labels, preds)"
   ]
  },
  {
   "cell_type": "code",
   "execution_count": 25,
   "id": "786337b1",
   "metadata": {},
   "outputs": [
    {
     "name": "stdout",
     "output_type": "stream",
     "text": [
      "0.6099018355993298 0.6087706301816735 0.6594518566823707\n"
     ]
    }
   ],
   "source": [
    "print(nmi, ami, ari)"
   ]
  },
  {
   "cell_type": "code",
   "execution_count": 26,
   "id": "89c0734f",
   "metadata": {},
   "outputs": [],
   "source": [
    "adj_s = pred2adj(preds, nclass)"
   ]
  },
  {
   "cell_type": "code",
   "execution_count": 27,
   "id": "244d16cb",
   "metadata": {},
   "outputs": [
    {
     "name": "stdout",
     "output_type": "stream",
     "text": [
      "123\n"
     ]
    },
    {
     "name": "stderr",
     "output_type": "stream",
     "text": [
      "100%|██████████| 100/100 [00:00<00:00, 335.98it/s]\n"
     ]
    },
    {
     "data": {
      "image/png": "[encoded data removed]",
      "text/plain": [
       "<Figure size 640x480 with 2 Axes>"
      ]
     },
     "metadata": {},
     "output_type": "display_data"
    }
   ],
   "source": [
    "plot_superadj(adj_s, K=min(100,n), sparse=True, labels=labels, dataset=\"DLKNN_{}_{}_{:.1f}\".format(dataset, seed, edge_size), vline=True)"
   ]
  },
  {
   "cell_type": "code",
   "execution_count": null,
   "id": "3665e0d9",
   "metadata": {},
   "outputs": [],
   "source": []
  },
  {
   "cell_type": "code",
   "execution_count": null,
   "id": "61b4782e",
   "metadata": {},
   "outputs": [],
   "source": []
  },
  {
   "cell_type": "markdown",
   "id": "8b8e533a",
   "metadata": {},
   "source": [
    "## Infomap KNN"
   ]
  },
  {
   "cell_type": "code",
   "execution_count": 37,
   "id": "3c391033",
   "metadata": {},
   "outputs": [
    {
     "name": "stdout",
     "output_type": "stream",
     "text": [
      "600 9218.046\n"
     ]
    }
   ],
   "source": [
    "data = np.load(\"/data/liuyue/New/SBM/mySBM/baselines/KNN/outputs_diff_cls/knn_adj_{}_{:d}.npz\".format(nclass, seed))\n",
    "adj_data, adj_row, adj_col = data[\"data\"], data[\"row\"], data[\"col\"]\n",
    "adj_s = sp.coo_matrix((adj_data, (adj_row, adj_col)), shape=(n,n))\n",
    "print(adj_s.shape[0], adj_s.sum())"
   ]
  },
  {
   "cell_type": "code",
   "execution_count": 38,
   "id": "226139a3",
   "metadata": {},
   "outputs": [],
   "source": [
    "preds = infomap_cluster(adj_s, labels)\n",
    "nmi = NMI(labels, preds)\n",
    "ami = AMI(labels, preds)\n",
    "ari = ARI(labels, preds)"
   ]
  },
  {
   "cell_type": "code",
   "execution_count": 39,
   "id": "3b2dfa28",
   "metadata": {},
   "outputs": [
    {
     "name": "stdout",
     "output_type": "stream",
     "text": [
      "0.751255257306204 0.7509550629417411 0.8400107580774999\n"
     ]
    }
   ],
   "source": [
    "print(nmi, ami, ari)"
   ]
  },
  {
   "cell_type": "code",
   "execution_count": 40,
   "id": "5571f453",
   "metadata": {},
   "outputs": [
    {
     "name": "stdout",
     "output_type": "stream",
     "text": [
      "123\n"
     ]
    },
    {
     "name": "stderr",
     "output_type": "stream",
     "text": [
      "100%|██████████| 100/100 [00:00<00:00, 182.30it/s]\n"
     ]
    },
    {
     "data": {
      "image/png": "[encoded data removed]",
      "text/plain": [
       "<Figure size 640x480 with 2 Axes>"
      ]
     },
     "metadata": {},
     "output_type": "display_data"
    }
   ],
   "source": [
    "adj_s = pred2adj(preds, nclass)\n",
    "plot_superadj(adj_s, K=min(100,n), sparse=True, labels=labels, dataset=\"DLKNN_{}_{}_{:.1f}\".format(dataset, seed, edge_size), vline=True)"
   ]
  },
  {
   "cell_type": "code",
   "execution_count": null,
   "id": "8d83b674",
   "metadata": {},
   "outputs": [],
   "source": []
  },
  {
   "cell_type": "code",
   "execution_count": null,
   "id": "63aa5a25",
   "metadata": {},
   "outputs": [],
   "source": []
  },
  {
   "cell_type": "code",
   "execution_count": null,
   "id": "1439fc04",
   "metadata": {},
   "outputs": [],
   "source": []
  },
  {
   "cell_type": "code",
   "execution_count": null,
   "id": "f40693dd",
   "metadata": {},
   "outputs": [],
   "source": []
  },
  {
   "cell_type": "code",
   "execution_count": null,
   "id": "696b1acc",
   "metadata": {},
   "outputs": [],
   "source": []
  },
  {
   "cell_type": "markdown",
   "id": "6622c7bf",
   "metadata": {},
   "source": [
    "## Infomap DLouvain-KNN"
   ]
  },
  {
   "cell_type": "code",
   "execution_count": 41,
   "id": "05ba9e03",
   "metadata": {},
   "outputs": [],
   "source": [
    "data = np.load(\"/data/liuyue/New/SBM/mySBM/link_adj_diff_cls_knn/MVGRL/{}_{}_{}.npz\".format(dataset, nclass, seed))\n",
    "adj_data, adj_row, adj_col = data[\"data\"], data[\"row\"], data[\"col\"]\n",
    "adj_s = sp.coo_matrix((adj_data, (adj_row, adj_col)), shape=(n,n))"
   ]
  },
  {
   "cell_type": "code",
   "execution_count": 42,
   "id": "31dc5696",
   "metadata": {},
   "outputs": [
    {
     "name": "stdout",
     "output_type": "stream",
     "text": [
      "600 10129.0\n"
     ]
    }
   ],
   "source": [
    "adj_s = sampling(adj_s, rate=10*m/adj_s.sum(), random_state=seed)\n",
    "print(adj_s.shape[0], adj_s.sum())"
   ]
  },
  {
   "cell_type": "code",
   "execution_count": 43,
   "id": "104044f5",
   "metadata": {},
   "outputs": [],
   "source": [
    "preds = infomap_cluster(adj_s, labels)\n",
    "nmi = NMI(labels, preds)\n",
    "ami = AMI(labels, preds)\n",
    "ari = ARI(labels, preds)"
   ]
  },
  {
   "cell_type": "code",
   "execution_count": 44,
   "id": "86ed2d93",
   "metadata": {},
   "outputs": [
    {
     "name": "stdout",
     "output_type": "stream",
     "text": [
      "0.6043393577276004 0.6012936020233176 0.6647195824333919\n"
     ]
    }
   ],
   "source": [
    "print(nmi, ami, ari)"
   ]
  },
  {
   "cell_type": "code",
   "execution_count": 45,
   "id": "26115c54",
   "metadata": {},
   "outputs": [
    {
     "name": "stdout",
     "output_type": "stream",
     "text": [
      "123\n"
     ]
    },
    {
     "name": "stderr",
     "output_type": "stream",
     "text": [
      "100%|██████████| 100/100 [00:00<00:00, 168.86it/s]\n"
     ]
    },
    {
     "data": {
      "image/png": "[encoded data removed]",
      "text/plain": [
       "<Figure size 640x480 with 2 Axes>"
      ]
     },
     "metadata": {},
     "output_type": "display_data"
    }
   ],
   "source": [
    "adj_s = pred2adj(preds, nclass)\n",
    "plot_superadj(adj_s, K=min(100,n), sparse=True, labels=labels, dataset=\"DLKNN_{}_{}_{:.1f}\".format(dataset, seed, edge_size), vline=True)"
   ]
  },
  {
   "cell_type": "code",
   "execution_count": null,
   "id": "d619905f",
   "metadata": {},
   "outputs": [],
   "source": []
  }
 ],
 "metadata": {
  "kernelspec": {
   "display_name": "Python [conda env:pyg] *",
   "language": "python",
   "name": "conda-env-pyg-py"
  },
  "language_info": {
   "codemirror_mode": {
    "name": "ipython",
    "version": 3
   },
   "file_extension": ".py",
   "mimetype": "text/x-python",
   "name": "python",
   "nbconvert_exporter": "python",
   "pygments_lexer": "ipython3",
   "version": "3.7.11"
  }
 },
 "nbformat": 4,
 "nbformat_minor": 5
}
